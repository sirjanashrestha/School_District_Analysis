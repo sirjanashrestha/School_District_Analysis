{
 "cells": [
  {
   "cell_type": "code",
   "execution_count": 10,
   "id": "c5022c46",
   "metadata": {},
   "outputs": [],
   "source": [
    "#List of high_schools\n",
    "high_schools=[\"Hernandez High School\", \"Figueroa High School\", \"Wilson High School\", \"Wright High School\"]"
   ]
  },
  {
   "cell_type": "code",
   "execution_count": 11,
   "id": "169d094e",
   "metadata": {},
   "outputs": [
    {
     "name": "stdout",
     "output_type": "stream",
     "text": [
      "Hernandez High School\n",
      "Figueroa High School\n",
      "Wilson High School\n",
      "Wright High School\n"
     ]
    }
   ],
   "source": [
    "for school in high_schools:\n",
    "    print(school)"
   ]
  },
  {
   "cell_type": "code",
   "execution_count": 12,
   "id": "2f3f8da7",
   "metadata": {},
   "outputs": [],
   "source": [
    "high_school_types=[{\"High School\":\"Griffin\",\"Type\":\"District\"},\n",
    "                   {\"High School\":\"Figueroa\",\"Type\":\"District\"},\n",
    "                   {\"High School\":\"Wilson\",\"Type\":\"Charter\"},\n",
    "                   {\"High School\":\"Wright\",\"Type\":\"Charter\"}]"
   ]
  },
  {
   "cell_type": "code",
   "execution_count": 13,
   "id": "8e064054",
   "metadata": {},
   "outputs": [
    {
     "name": "stdout",
     "output_type": "stream",
     "text": [
      "{'High School': 'Griffin', 'Type': 'District'}\n",
      "{'High School': 'Figueroa', 'Type': 'District'}\n",
      "{'High School': 'Wilson', 'Type': 'Charter'}\n",
      "{'High School': 'Wright', 'Type': 'Charter'}\n"
     ]
    }
   ],
   "source": [
    "for schooltypes in high_school_types:\n",
    "    print(schooltypes)"
   ]
  },
  {
   "cell_type": "code",
   "execution_count": 14,
   "id": "d1592e0a",
   "metadata": {},
   "outputs": [],
   "source": [
    "#List of high_schools\n",
    "high_schools=[\"Huang High School\",\"Figueroa High School6479220056-nazish\", \"Shelton High School\",\"Hernandez High School\",\n",
    "             \"Griffin High School\", \"Wilson High School\", \"Cabera High School\", \"Bailey High School\", \"Holden High School\",\n",
    "             \"Pena High School\", \"Wright High School\", \"Rodriguez High School\", \"Johnson High School\", \"Ford High School\",\n",
    "             \"Thomas High School\"]"
   ]
  },
  {
   "cell_type": "code",
   "execution_count": 15,
   "id": "ba70e1d4",
   "metadata": {},
   "outputs": [],
   "source": [
    "import pandas as pd"
   ]
  },
  {
   "cell_type": "code",
   "execution_count": 16,
   "id": "c8a23aa2",
   "metadata": {},
   "outputs": [
    {
     "data": {
      "text/plain": [
       "0                         Huang High School\n",
       "1     Figueroa High School6479220056-nazish\n",
       "2                       Shelton High School\n",
       "3                     Hernandez High School\n",
       "4                       Griffin High School\n",
       "5                        Wilson High School\n",
       "6                        Cabera High School\n",
       "7                        Bailey High School\n",
       "8                        Holden High School\n",
       "9                          Pena High School\n",
       "10                       Wright High School\n",
       "11                    Rodriguez High School\n",
       "12                      Johnson High School\n",
       "13                         Ford High School\n",
       "14                       Thomas High School\n",
       "dtype: object"
      ]
     },
     "execution_count": 16,
     "metadata": {},
     "output_type": "execute_result"
    }
   ],
   "source": [
    "school_series=pd.Series(high_schools)\n",
    "school_series"
   ]
  },
  {
   "cell_type": "code",
   "execution_count": 17,
   "id": "27842adc",
   "metadata": {},
   "outputs": [
    {
     "name": "stdout",
     "output_type": "stream",
     "text": [
      "Huang High School\n",
      "Figueroa High School6479220056-nazish\n",
      "Shelton High School\n",
      "Hernandez High School\n",
      "Griffin High School\n",
      "Wilson High School\n",
      "Cabera High School\n",
      "Bailey High School\n",
      "Holden High School\n",
      "Pena High School\n",
      "Wright High School\n",
      "Rodriguez High School\n",
      "Johnson High School\n",
      "Ford High School\n",
      "Thomas High School\n"
     ]
    }
   ],
   "source": [
    "for highschool in school_series:\n",
    "    print(highschool)"
   ]
  },
  {
   "cell_type": "code",
   "execution_count": 22,
   "id": "63a68c06",
   "metadata": {},
   "outputs": [],
   "source": [
    "high_school_dicts=[{\"School ID\":0,\"School_name\":\"Huang High School\",\"type\":\"District\"}, {\"School ID\":1,\"School_name\":\"Figueroa High School\",\n",
    "                    \"type\":\"District\"}, {\"School ID\":3, \"School_name\":\"Shelton High School\",\"type\":\"District\"},{\"School ID\":4,\"School_name\":\n",
    "                                                                                                               \"Hernandez High School\",\"type\":\"Charter\"}]"
   ]
  },
  {
   "cell_type": "code",
   "execution_count": 23,
   "id": "83425a46",
   "metadata": {},
   "outputs": [
    {
     "data": {
      "text/html": [
       "<div>\n",
       "<style scoped>\n",
       "    .dataframe tbody tr th:only-of-type {\n",
       "        vertical-align: middle;\n",
       "    }\n",
       "\n",
       "    .dataframe tbody tr th {\n",
       "        vertical-align: top;\n",
       "    }\n",
       "\n",
       "    .dataframe thead th {\n",
       "        text-align: right;\n",
       "    }\n",
       "</style>\n",
       "<table border=\"1\" class=\"dataframe\">\n",
       "  <thead>\n",
       "    <tr style=\"text-align: right;\">\n",
       "      <th></th>\n",
       "      <th>School ID</th>\n",
       "      <th>School_name</th>\n",
       "      <th>type</th>\n",
       "    </tr>\n",
       "  </thead>\n",
       "  <tbody>\n",
       "    <tr>\n",
       "      <th>0</th>\n",
       "      <td>0</td>\n",
       "      <td>Huang High School</td>\n",
       "      <td>District</td>\n",
       "    </tr>\n",
       "    <tr>\n",
       "      <th>1</th>\n",
       "      <td>1</td>\n",
       "      <td>Figueroa High School</td>\n",
       "      <td>District</td>\n",
       "    </tr>\n",
       "    <tr>\n",
       "      <th>2</th>\n",
       "      <td>3</td>\n",
       "      <td>Shelton High School</td>\n",
       "      <td>District</td>\n",
       "    </tr>\n",
       "    <tr>\n",
       "      <th>3</th>\n",
       "      <td>4</td>\n",
       "      <td>Hernandez High School</td>\n",
       "      <td>Charter</td>\n",
       "    </tr>\n",
       "  </tbody>\n",
       "</table>\n",
       "</div>"
      ],
      "text/plain": [
       "   School ID            School_name      type\n",
       "0          0      Huang High School  District\n",
       "1          1   Figueroa High School  District\n",
       "2          3    Shelton High School  District\n",
       "3          4  Hernandez High School   Charter"
      ]
     },
     "execution_count": 23,
     "metadata": {},
     "output_type": "execute_result"
    }
   ],
   "source": [
    "school_df=pd.DataFrame(high_school_dicts)\n",
    "school_df"
   ]
  },
  {
   "cell_type": "code",
   "execution_count": 25,
   "id": "839f8a2c",
   "metadata": {},
   "outputs": [
    {
     "ename": "SyntaxError",
     "evalue": "can't assign to function call (1250668648.py, line 2)",
     "output_type": "error",
     "traceback": [
      "\u001b[1;36m  File \u001b[1;32m\"C:\\Users\\DeLL\\AppData\\Local\\Temp\\ipykernel_1476\\1250668648.py\"\u001b[1;36m, line \u001b[1;32m2\u001b[0m\n\u001b[1;33m    school_df(\"adress\")=Adress\u001b[0m\n\u001b[1;37m                              ^\u001b[0m\n\u001b[1;31mSyntaxError\u001b[0m\u001b[1;31m:\u001b[0m can't assign to function call\n"
     ]
    }
   ],
   "source": [
    "adress=[\"Kitchener\",\"Missisuaga\",\"Hamilton\",\"Oakville\"]\n",
    "school_df(\"adress\")=Adress\n",
    "school_df"
   ]
  },
  {
   "cell_type": "code",
   "execution_count": 26,
   "id": "52754952",
   "metadata": {},
   "outputs": [
    {
     "data": {
      "text/plain": [
       "Index(['School ID', 'School_name', 'type'], dtype='object')"
      ]
     },
     "execution_count": 26,
     "metadata": {},
     "output_type": "execute_result"
    }
   ],
   "source": [
    "school_df.columns\n"
   ]
  },
  {
   "cell_type": "code",
   "execution_count": 27,
   "id": "dbb01494",
   "metadata": {},
   "outputs": [
    {
     "data": {
      "text/plain": [
       "RangeIndex(start=0, stop=4, step=1)"
      ]
     },
     "execution_count": 27,
     "metadata": {},
     "output_type": "execute_result"
    }
   ],
   "source": [
    "school_df.index"
   ]
  },
  {
   "cell_type": "code",
   "execution_count": 28,
   "id": "2d7883cc",
   "metadata": {},
   "outputs": [
    {
     "data": {
      "text/plain": [
       "array([[0, 'Huang High School', 'District'],\n",
       "       [1, 'Figueroa High School', 'District'],\n",
       "       [3, 'Shelton High School', 'District'],\n",
       "       [4, 'Hernandez High School', 'Charter']], dtype=object)"
      ]
     },
     "execution_count": 28,
     "metadata": {},
     "output_type": "execute_result"
    }
   ],
   "source": [
    "school_df.values"
   ]
  },
  {
   "cell_type": "code",
   "execution_count": null,
   "id": "f9cef45e",
   "metadata": {},
   "outputs": [],
   "source": []
  }
 ],
 "metadata": {
  "kernelspec": {
   "display_name": "PythonData",
   "language": "python",
   "name": "pythondata"
  },
  "language_info": {
   "codemirror_mode": {
    "name": "ipython",
    "version": 3
   },
   "file_extension": ".py",
   "mimetype": "text/x-python",
   "name": "python",
   "nbconvert_exporter": "python",
   "pygments_lexer": "ipython3",
   "version": "3.7.13"
  }
 },
 "nbformat": 4,
 "nbformat_minor": 5
}
